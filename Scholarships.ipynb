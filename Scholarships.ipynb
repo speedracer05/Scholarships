{
 "cells": [
  {
   "cell_type": "code",
   "execution_count": 27,
   "id": "0d98bebb",
   "metadata": {},
   "outputs": [],
   "source": [
    "# Dependencies and Setup\n",
    "from selenium import webdriver\n",
    "from webdriver_manager.chrome import ChromeDriverManager\n",
    "# from selenium.webdriver.common.keys import Keys\n",
    "\n",
    "# driver = webdriver.Chrome('/Users/jchan/Documents/Programming/scholarships/drivers/chromedriver.exe')"
   ]
  },
  {
   "cell_type": "code",
   "execution_count": 28,
   "id": "ead7441d",
   "metadata": {},
   "outputs": [],
   "source": [
    "from splinter import Browser\n",
    "from bs4 import BeautifulSoup as bs\n",
    "import pandas as pd\n",
    "import requests"
   ]
  },
  {
   "cell_type": "code",
   "execution_count": 29,
   "id": "c6d4db66",
   "metadata": {
    "scrolled": true
   },
   "outputs": [
    {
     "name": "stderr",
     "output_type": "stream",
     "text": [
      "\n",
      "\n",
      "====== WebDriver manager ======\n",
      "Current google-chrome version is 96.0.4664\n",
      "Get LATEST driver version for 96.0.4664\n",
      "Driver [C:\\Users\\jchan\\.wdm\\drivers\\chromedriver\\win32\\96.0.4664.45\\chromedriver.exe] found in cache\n"
     ]
    }
   ],
   "source": [
    "# Setup config variables to enable Splinter interaction with browser\n",
    "executable_path = {'executable_path': ChromeDriverManager().install()}\n",
    "browser = Browser('chrome', **executable_path, headless=False)\n",
    "\n",
    "# Visit scholarship.com through splinter module.\n",
    "scholarhsip_url = 'https://www.scholarships.com/financial-aid/college-scholarships/scholarships-by-grade-level/high-school-scholarships//'\n",
    "browser.visit(scholarhsip_url)"
   ]
  },
  {
   "cell_type": "code",
   "execution_count": 30,
   "id": "15557b08",
   "metadata": {},
   "outputs": [],
   "source": [
    "# Visit scholarships.com to scrape scholarship data. Store data in a dictionary\n",
    "# Append the dictionary with scholarship name, application deadline, amount, \n",
    "# and scholarship description.\n",
    "\n",
    "html = browser.html\n",
    "# Create BeautifulSoup object; parse with 'html.parser'\n",
    "soup = bs(html, 'html.parser')"
   ]
  },
  {
   "cell_type": "code",
   "execution_count": 31,
   "id": "0e6a746c",
   "metadata": {},
   "outputs": [
    {
     "data": {
      "text/plain": [
       "bs4.element.ResultSet"
      ]
     },
     "execution_count": 31,
     "metadata": {},
     "output_type": "execute_result"
    }
   ],
   "source": [
    "items = soup.find_all('h3')\n",
    "# ('div', class_='item')\n",
    "type(items)"
   ]
  },
  {
   "cell_type": "code",
   "execution_count": 34,
   "id": "2d4fbd89",
   "metadata": {},
   "outputs": [
    {
     "data": {
      "text/plain": [
       "'\\n\"Species On The Edge 2.0\" Social Media Contest\\n'"
      ]
     },
     "execution_count": 34,
     "metadata": {},
     "output_type": "execute_result"
    }
   ],
   "source": [
    "len(items)\n",
    "# 1036\n",
    "items[0].text\n",
    "# Species On The Edge 2.0\" Social Media Contest\n",
    "\n",
    "# items[0].attrs['href']\n",
    "# 'scholarship_url'\n",
    "# for i in items:\n",
    "#     print(t.text, t.attrs['href'])\n",
    "\n"
   ]
  },
  {
   "cell_type": "code",
   "execution_count": null,
   "id": "145a7511",
   "metadata": {},
   "outputs": [],
   "source": []
  }
 ],
 "metadata": {
  "kernelspec": {
   "display_name": "Python 3",
   "language": "python",
   "name": "python3"
  },
  "language_info": {
   "codemirror_mode": {
    "name": "ipython",
    "version": 3
   },
   "file_extension": ".py",
   "mimetype": "text/x-python",
   "name": "python",
   "nbconvert_exporter": "python",
   "pygments_lexer": "ipython3",
   "version": "3.6.13"
  }
 },
 "nbformat": 4,
 "nbformat_minor": 5
}
