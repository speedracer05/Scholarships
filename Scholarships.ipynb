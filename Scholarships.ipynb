{
 "cells": [
  {
   "cell_type": "code",
   "execution_count": null,
   "id": "b9a9a4fa",
   "metadata": {},
   "outputs": [],
   "source": [
    "# Dependencies and Setup. Testing new method\n",
    "import urllib.request\n",
    "from bs4 import BeautifulSoup as bs  # pip install beautifulsoup4"
   ]
  },
  {
   "cell_type": "code",
   "execution_count": null,
   "id": "325f3a8a",
   "metadata": {},
   "outputs": [],
   "source": [
    "# Show all links from website.\n",
    "resp = urllib.request.urlopen('https://www.scholarships.com/financial-aid/college-scholarships/scholarships-by-grade-level/high-school-scholarships')\n",
    "soup = bs(resp, from_encoding=resp.info().get_param('charset'))\n",
    "\n",
    "for link in soup.find_all('a', href=True):\n",
    "    print(link['href'])"
   ]
  },
  {
   "cell_type": "code",
   "execution_count": null,
   "id": "9218958e",
   "metadata": {},
   "outputs": [],
   "source": [
    "# Save URLs to file\n",
    "with open('extract_scholarship.txt', 'w+', encoding='utf-8') as file:\n",
    "    for link in soup.find_all('a', href=True):\n",
    "        lines = f\"{link.getText()}\\n{link['href']}\\n\"\n",
    "        print(lines)\n",
    "        file.write(f'{lines}')"
   ]
  },
  {
   "cell_type": "code",
   "execution_count": null,
   "id": "a4723e24",
   "metadata": {},
   "outputs": [],
   "source": []
  },
  {
   "cell_type": "markdown",
   "id": "384e468a",
   "metadata": {},
   "source": [
    "# Save code below."
   ]
  },
  {
   "cell_type": "code",
   "execution_count": null,
   "id": "0d98bebb",
   "metadata": {},
   "outputs": [],
   "source": [
    "# Dependencies and Setup\n",
    "from selenium import webdriver\n",
    "from webdriver_manager.chrome import ChromeDriverManager\n",
    "from selenium.webdriver.common.keys import Keys\n",
    "\n",
    "# driver = webdriver.Chrome('/Users/jchan/Documents/Programming/scholarships/drivers/chromedriver.exe')"
   ]
  },
  {
   "cell_type": "code",
   "execution_count": null,
   "id": "ead7441d",
   "metadata": {},
   "outputs": [],
   "source": [
    "from splinter import Browser\n",
    "from bs4 import BeautifulSoup as bs\n",
    "import pandas as pd\n",
    "import requests"
   ]
  },
  {
   "cell_type": "code",
   "execution_count": null,
   "id": "c6d4db66",
   "metadata": {
    "scrolled": true
   },
   "outputs": [],
   "source": [
    "# Setup config variables to enable Splinter interaction with browser\n",
    "executable_path = {'executable_path': ChromeDriverManager().install()}\n",
    "browser = Browser('chrome', **executable_path, headless=False)\n",
    "\n",
    "# Visit scholarship.com through splinter module.\n",
    "scholarhsip_url = 'https://www.scholarships.com/financial-aid/college-scholarships/scholarships-by-grade-level/high-school-scholarships//'\n",
    "browser.visit(scholarhsip_url)"
   ]
  },
  {
   "cell_type": "code",
   "execution_count": null,
   "id": "15557b08",
   "metadata": {},
   "outputs": [],
   "source": [
    "# Scrape scholarship data from scholarships.com. Store data in a dictionary\n",
    "# Append the dictionary with scholarship name, url, description, application deadline, amount.\n",
    "\n",
    "html = browser.html\n",
    "# Create BeautifulSoup object; parse with 'html.parser'\n",
    "soup = bs(html, 'html.parser')"
   ]
  },
  {
   "cell_type": "code",
   "execution_count": null,
   "id": "0e6a746c",
   "metadata": {},
   "outputs": [],
   "source": [
    "items = soup.find_all('h3')\n",
    "# ('div', class_='item')\n",
    "type(items)"
   ]
  },
  {
   "cell_type": "code",
   "execution_count": null,
   "id": "2d4fbd89",
   "metadata": {},
   "outputs": [],
   "source": [
    "len(items)\n",
    "# 1036\n",
    "items[0].text\n",
    "\n"
   ]
  }
 ],
 "metadata": {
  "kernelspec": {
   "display_name": "Python 3",
   "language": "python",
   "name": "python3"
  },
  "language_info": {
   "codemirror_mode": {
    "name": "ipython",
    "version": 3
   },
   "file_extension": ".py",
   "mimetype": "text/x-python",
   "name": "python",
   "nbconvert_exporter": "python",
   "pygments_lexer": "ipython3",
   "version": "3.6.13"
  }
 },
 "nbformat": 4,
 "nbformat_minor": 5
}
